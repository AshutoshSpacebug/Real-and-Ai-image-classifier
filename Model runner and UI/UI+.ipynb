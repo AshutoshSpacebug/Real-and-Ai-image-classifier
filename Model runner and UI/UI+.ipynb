{
 "cells": [
  {
   "cell_type": "code",
   "execution_count": 6,
   "id": "de75a9cd-0e3c-449d-8fbd-c4405530620a",
   "metadata": {},
   "outputs": [
    {
     "name": "stdout",
     "output_type": "stream",
     "text": [
      "\u001b[1m1/1\u001b[0m \u001b[32m━━━━━━━━━━━━━━━━━━━━\u001b[0m\u001b[37m\u001b[0m \u001b[1m3s\u001b[0m 3s/step\n",
      "Real\n"
     ]
    }
   ],
   "source": [
    "import tensorflow as tf\n",
    "from tensorflow.keras.preprocessing import image\n",
    "import numpy as np\n",
    "\n",
    "# Load the model\n",
    "model = tf.keras.models.load_model('real_fake_classifier_model1.keras')\n",
    "\n",
    "# Function to preprocess and predict\n",
    "def classify_image(img_path):\n",
    "    img = image.load_img(img_path, target_size=(224, 224))  # Corrected size to match model input\n",
    "    img_array = image.img_to_array(img) / 255.0\n",
    "    img_array = np.expand_dims(img_array, axis=0)\n",
    "    prediction = model.predict(img_array)\n",
    "    if prediction[0][0] > 0.5:\n",
    "        print(\"Fake\")\n",
    "    else:\n",
    "        print(\"Real\")\n",
    "\n",
    "# Test with a new image\n",
    "classify_image('real_0.jpg')"
   ]
  },
  {
   "cell_type": "code",
   "execution_count": 7,
   "id": "c854c56a-39d3-4343-a5d0-927366ccf08e",
   "metadata": {},
   "outputs": [
    {
     "name": "stdout",
     "output_type": "stream",
     "text": [
      "* Running on local URL:  http://127.0.0.1:7861\n",
      "\n",
      "To create a public link, set `share=True` in `launch()`.\n"
     ]
    },
    {
     "data": {
      "text/html": [
       "<div><iframe src=\"http://127.0.0.1:7861/\" width=\"100%\" height=\"500\" allow=\"autoplay; camera; microphone; clipboard-read; clipboard-write;\" frameborder=\"0\" allowfullscreen></iframe></div>"
      ],
      "text/plain": [
       "<IPython.core.display.HTML object>"
      ]
     },
     "metadata": {},
     "output_type": "display_data"
    },
    {
     "data": {
      "text/plain": []
     },
     "execution_count": 7,
     "metadata": {},
     "output_type": "execute_result"
    }
   ],
   "source": [
    "import gradio as gr\n",
    "import tensorflow as tf\n",
    "from tensorflow.keras.preprocessing import image\n",
    "import numpy as np\n",
    "\n",
    "model = tf.keras.models.load_model('real_fake_classifier_model1.keras')\n",
    "\n",
    "# Function to preprocess and predict\n",
    "def classify_image(img):\n",
    "    # Resize the image to 224*224 if it's not already that size\n",
    "    if img.size != (224, 224):\n",
    "        img = img.resize((224, 224))\n",
    "    img_array = np.array(img) / 255.0\n",
    "    img_array = np.expand_dims(img_array, axis=0)\n",
    "    prediction = model.predict(img_array)\n",
    "    return \"Fake\" if prediction[0][0] > 0.5 else \"Real\"\n",
    "\n",
    "# Gradio Interface without the cropping tool\n",
    "iface = gr.Interface(\n",
    "    fn=classify_image,\n",
    "    inputs=gr.Image(type=\"pil\"),  # Remove the 'tool' parameter\n",
    "    outputs=gr.Text(),\n",
    "    title=\"Real vs Fake Image Classifier\",\n",
    "    description=\"Upload an image to classify it as Real or Fake. The image will be resized to 224x224.\"\n",
    ")\n",
    "\n",
    "iface.launch()\n"
   ]
  },
  {
   "cell_type": "code",
   "execution_count": null,
   "id": "6d669f01-a855-4cf6-974f-8066012a6076",
   "metadata": {},
   "outputs": [],
   "source": []
  }
 ],
 "metadata": {
  "kernelspec": {
   "display_name": "Python 3 (ipykernel)",
   "language": "python",
   "name": "python3"
  },
  "language_info": {
   "codemirror_mode": {
    "name": "ipython",
    "version": 3
   },
   "file_extension": ".py",
   "mimetype": "text/x-python",
   "name": "python",
   "nbconvert_exporter": "python",
   "pygments_lexer": "ipython3",
   "version": "3.12.4"
  }
 },
 "nbformat": 4,
 "nbformat_minor": 5
}
